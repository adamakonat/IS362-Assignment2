{
  "metadata": {
    "language_info": {
      "codemirror_mode": {
        "name": "python",
        "version": 3
      },
      "file_extension": ".py",
      "mimetype": "text/x-python",
      "name": "python",
      "nbconvert_exporter": "python",
      "pygments_lexer": "ipython3",
      "version": "3.8"
    },
    "kernelspec": {
      "name": "python",
      "display_name": "Python (Pyodide)",
      "language": "python"
    }
  },
  "nbformat_minor": 4,
  "nbformat": 4,
  "cells": [
    {
      "cell_type": "markdown",
      "source": "Adama Konate\n\nIS362 - Assignment 2",
      "metadata": {}
    },
    {
      "cell_type": "markdown",
      "source": "#The script below contains four lists: school, names, ages, and genders. Each list has 5 items. The lists are aggregated via the zip() function. ",
      "metadata": {}
    },
    {
      "cell_type": "code",
      "source": "school = [\"CUNY SPS\", \"BMCC\", \"Baruch College\",\"BCC\", \"Hunter College\"]\nnames = [\"Adam\", \"Diena\", \"Coco\", \"Elizabeth\", \"Mike\"]\nages =  [20, 25, 35, 22, 29]\ngenders = [\"male\", \"female\", \"female\", \"female\", \"male\"]\n\nrecords = list(zip(school, names, ages, genders))\nprint(records)",
      "metadata": {
        "trusted": true
      },
      "execution_count": 5,
      "outputs": [
        {
          "name": "stdout",
          "text": "[('CUNY SPS', 'Adam', 20, 'male'), ('BMCC', 'Diena', 25, 'female'), ('Baruch College', 'Coco', 35, 'female'), ('BCC', 'Elizabeth', 22, 'female'), ('Hunter College', 'Mike', 29, 'male')]\n",
          "output_type": "stream"
        }
      ]
    },
    {
      "cell_type": "markdown",
      "source": "#One aspect of data structures that I found challenging is the use of tuple unpacking to get the individual items from the tuples returned by the zip() function. ",
      "metadata": {}
    },
    {
      "cell_type": "code",
      "source": "for name, age, gender in zip(names, ages, genders):\n    print(\" Name=>\", name, \" -Age=>\", age, \" -Gender=>\", gender)",
      "metadata": {
        "trusted": true
      },
      "execution_count": 25,
      "outputs": [
        {
          "name": "stdout",
          "text": " Name=> Adam  -Age=> 20  -Gender=> male\n Name=> Diena  -Age=> 25  -Gender=> female\n Name=> Coco  -Age=> 35  -Gender=> female\n Name=> Elizabeth  -Age=> 22  -Gender=> female\n Name=> Mike  -Age=> 29  -Gender=> male\n",
          "output_type": "stream"
        }
      ]
    },
    {
      "cell_type": "markdown",
      "source": "#In some cases, the iterables being aggregated or combined, using the zip() function contain an unequal number of items. Does it mean that only those items from multiple iterables are aggregated that correspond to the items in the smallest iterable?",
      "metadata": {}
    },
    {
      "cell_type": "markdown",
      "source": "#For instance, in the script below the genders list only contains 2 items (Male and Female). Using the zip() function to aggregate the names, ages, and genders lists in the following case will only return two tuples containing items.",
      "metadata": {}
    },
    {
      "cell_type": "code",
      "source": "names = [\"Adam\", \"Mike\", \"Diena\", \"Coco\", \"John\"]\nages =  [20, 25, 35, 22, 29]\ngenders = [\"male\", \"male\"]\n\nrecords = list(zip(names, ages, genders))\nprint(records)",
      "metadata": {
        "trusted": true
      },
      "execution_count": 26,
      "outputs": [
        {
          "name": "stdout",
          "text": "[('Adam', 20, 'male'), ('Mike', 25, 'male')]\n",
          "output_type": "stream"
        }
      ]
    },
    {
      "cell_type": "code",
      "source": "",
      "metadata": {},
      "execution_count": null,
      "outputs": []
    }
  ]
}